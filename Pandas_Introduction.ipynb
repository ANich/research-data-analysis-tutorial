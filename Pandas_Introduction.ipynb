{
 "cells": [
  {
   "cell_type": "markdown",
   "metadata": {},
   "source": [
    "### What is Pandas?"
   ]
  },
  {
   "cell_type": "code",
   "execution_count": 1,
   "metadata": {},
   "outputs": [],
   "source": [
    "import pandas as pd"
   ]
  },
  {
   "cell_type": "code",
   "execution_count": 2,
   "metadata": {},
   "outputs": [
    {
     "data": {
      "text/plain": [
       "<module 'pandas' from '/Users/alex/anaconda/lib/python3.7/site-packages/pandas/__init__.py'>"
      ]
     },
     "execution_count": 2,
     "metadata": {},
     "output_type": "execute_result"
    }
   ],
   "source": [
    "pd"
   ]
  },
  {
   "cell_type": "code",
   "execution_count": 3,
   "metadata": {},
   "outputs": [
    {
     "data": {
      "text/plain": [
       "'0.24.1'"
      ]
     },
     "execution_count": 3,
     "metadata": {},
     "output_type": "execute_result"
    }
   ],
   "source": [
    "pd.__version__"
   ]
  },
  {
   "cell_type": "markdown",
   "metadata": {},
   "source": [
    "An awesome data analysis toolkit."
   ]
  },
  {
   "cell_type": "markdown",
   "metadata": {},
   "source": [
    "Two main datastructures:"
   ]
  },
  {
   "cell_type": "markdown",
   "metadata": {},
   "source": [
    "#### Series:"
   ]
  },
  {
   "cell_type": "code",
   "execution_count": 4,
   "metadata": {},
   "outputs": [
    {
     "data": {
      "text/plain": [
       "0    a\n",
       "1    b\n",
       "2    c\n",
       "3    d\n",
       "dtype: object"
      ]
     },
     "execution_count": 4,
     "metadata": {},
     "output_type": "execute_result"
    }
   ],
   "source": [
    "pd.Series(['a', 'b', 'c', 'd'])# , index=[2, 3, 4, 5]) you can specify different indexes"
   ]
  },
  {
   "cell_type": "markdown",
   "metadata": {},
   "source": [
    "We get indexes and values."
   ]
  },
  {
   "cell_type": "code",
   "execution_count": 5,
   "metadata": {},
   "outputs": [],
   "source": [
    "series = pd.Series(['a', 'b', 'c', 'd'])"
   ]
  },
  {
   "cell_type": "code",
   "execution_count": 6,
   "metadata": {},
   "outputs": [
    {
     "data": {
      "text/plain": [
       "pandas.core.series.Series"
      ]
     },
     "execution_count": 6,
     "metadata": {},
     "output_type": "execute_result"
    }
   ],
   "source": [
    "type(series)"
   ]
  },
  {
   "cell_type": "code",
   "execution_count": 7,
   "metadata": {},
   "outputs": [
    {
     "data": {
      "text/plain": [
       "RangeIndex(start=0, stop=4, step=1)"
      ]
     },
     "execution_count": 7,
     "metadata": {},
     "output_type": "execute_result"
    }
   ],
   "source": [
    "series.index"
   ]
  },
  {
   "cell_type": "code",
   "execution_count": 8,
   "metadata": {},
   "outputs": [
    {
     "data": {
      "text/plain": [
       "'a'"
      ]
     },
     "execution_count": 8,
     "metadata": {},
     "output_type": "execute_result"
    }
   ],
   "source": [
    "series.loc[0]"
   ]
  },
  {
   "cell_type": "code",
   "execution_count": 9,
   "metadata": {},
   "outputs": [
    {
     "data": {
      "text/plain": [
       "0    a\n",
       "1    b\n",
       "2    c\n",
       "dtype: object"
      ]
     },
     "execution_count": 9,
     "metadata": {},
     "output_type": "execute_result"
    }
   ],
   "source": [
    "series.loc[0:2]"
   ]
  },
  {
   "cell_type": "markdown",
   "metadata": {},
   "source": [
    "#### DataFrames"
   ]
  },
  {
   "cell_type": "code",
   "execution_count": 10,
   "metadata": {},
   "outputs": [],
   "source": [
    "df = pd.DataFrame({\n",
    "    'column_1': [1, 2, 3, 4],\n",
    "    'column_2': [10, 11, 12, 13]\n",
    "})"
   ]
  },
  {
   "cell_type": "markdown",
   "metadata": {},
   "source": [
    "We now have columns:"
   ]
  },
  {
   "cell_type": "code",
   "execution_count": 11,
   "metadata": {},
   "outputs": [
    {
     "data": {
      "text/html": [
       "<div>\n",
       "<style scoped>\n",
       "    .dataframe tbody tr th:only-of-type {\n",
       "        vertical-align: middle;\n",
       "    }\n",
       "\n",
       "    .dataframe tbody tr th {\n",
       "        vertical-align: top;\n",
       "    }\n",
       "\n",
       "    .dataframe thead th {\n",
       "        text-align: right;\n",
       "    }\n",
       "</style>\n",
       "<table border=\"1\" class=\"dataframe\">\n",
       "  <thead>\n",
       "    <tr style=\"text-align: right;\">\n",
       "      <th></th>\n",
       "      <th>column_1</th>\n",
       "      <th>column_2</th>\n",
       "    </tr>\n",
       "  </thead>\n",
       "  <tbody>\n",
       "    <tr>\n",
       "      <th>0</th>\n",
       "      <td>1</td>\n",
       "      <td>10</td>\n",
       "    </tr>\n",
       "    <tr>\n",
       "      <th>1</th>\n",
       "      <td>2</td>\n",
       "      <td>11</td>\n",
       "    </tr>\n",
       "    <tr>\n",
       "      <th>2</th>\n",
       "      <td>3</td>\n",
       "      <td>12</td>\n",
       "    </tr>\n",
       "    <tr>\n",
       "      <th>3</th>\n",
       "      <td>4</td>\n",
       "      <td>13</td>\n",
       "    </tr>\n",
       "  </tbody>\n",
       "</table>\n",
       "</div>"
      ],
      "text/plain": [
       "   column_1  column_2\n",
       "0         1        10\n",
       "1         2        11\n",
       "2         3        12\n",
       "3         4        13"
      ]
     },
     "execution_count": 11,
     "metadata": {},
     "output_type": "execute_result"
    }
   ],
   "source": [
    "df"
   ]
  },
  {
   "cell_type": "code",
   "execution_count": 12,
   "metadata": {},
   "outputs": [
    {
     "data": {
      "text/plain": [
       "pandas.core.frame.DataFrame"
      ]
     },
     "execution_count": 12,
     "metadata": {},
     "output_type": "execute_result"
    }
   ],
   "source": [
    "type(df)"
   ]
  },
  {
   "cell_type": "code",
   "execution_count": 13,
   "metadata": {},
   "outputs": [
    {
     "data": {
      "text/plain": [
       "0    1\n",
       "1    2\n",
       "2    3\n",
       "3    4\n",
       "Name: column_1, dtype: int64"
      ]
     },
     "execution_count": 13,
     "metadata": {},
     "output_type": "execute_result"
    }
   ],
   "source": [
    "df['column_1']"
   ]
  },
  {
   "cell_type": "code",
   "execution_count": 14,
   "metadata": {},
   "outputs": [
    {
     "data": {
      "text/plain": [
       "pandas.core.series.Series"
      ]
     },
     "execution_count": 14,
     "metadata": {},
     "output_type": "execute_result"
    }
   ],
   "source": [
    "type(df['column_1'])"
   ]
  },
  {
   "cell_type": "markdown",
   "metadata": {},
   "source": [
    "Importing datasets:"
   ]
  },
  {
   "cell_type": "code",
   "execution_count": 15,
   "metadata": {},
   "outputs": [],
   "source": [
    "df = pd.read_csv(\n",
    "    'https://raw.githubusercontent.com/fivethirtyeight/data/master/fifa/fifa_countries_audience.csv'\n",
    ")"
   ]
  },
  {
   "cell_type": "code",
   "execution_count": 16,
   "metadata": {},
   "outputs": [
    {
     "data": {
      "text/html": [
       "<div>\n",
       "<style scoped>\n",
       "    .dataframe tbody tr th:only-of-type {\n",
       "        vertical-align: middle;\n",
       "    }\n",
       "\n",
       "    .dataframe tbody tr th {\n",
       "        vertical-align: top;\n",
       "    }\n",
       "\n",
       "    .dataframe thead th {\n",
       "        text-align: right;\n",
       "    }\n",
       "</style>\n",
       "<table border=\"1\" class=\"dataframe\">\n",
       "  <thead>\n",
       "    <tr style=\"text-align: right;\">\n",
       "      <th></th>\n",
       "      <th>country</th>\n",
       "      <th>confederation</th>\n",
       "      <th>population_share</th>\n",
       "      <th>tv_audience_share</th>\n",
       "      <th>gdp_weighted_share</th>\n",
       "    </tr>\n",
       "  </thead>\n",
       "  <tbody>\n",
       "    <tr>\n",
       "      <th>0</th>\n",
       "      <td>United States</td>\n",
       "      <td>CONCACAF</td>\n",
       "      <td>4.5</td>\n",
       "      <td>4.3</td>\n",
       "      <td>11.3</td>\n",
       "    </tr>\n",
       "    <tr>\n",
       "      <th>1</th>\n",
       "      <td>Japan</td>\n",
       "      <td>AFC</td>\n",
       "      <td>1.9</td>\n",
       "      <td>4.9</td>\n",
       "      <td>9.1</td>\n",
       "    </tr>\n",
       "    <tr>\n",
       "      <th>2</th>\n",
       "      <td>China</td>\n",
       "      <td>AFC</td>\n",
       "      <td>19.5</td>\n",
       "      <td>14.8</td>\n",
       "      <td>7.3</td>\n",
       "    </tr>\n",
       "    <tr>\n",
       "      <th>3</th>\n",
       "      <td>Germany</td>\n",
       "      <td>UEFA</td>\n",
       "      <td>1.2</td>\n",
       "      <td>2.9</td>\n",
       "      <td>6.3</td>\n",
       "    </tr>\n",
       "    <tr>\n",
       "      <th>4</th>\n",
       "      <td>Brazil</td>\n",
       "      <td>CONMEBOL</td>\n",
       "      <td>2.8</td>\n",
       "      <td>7.1</td>\n",
       "      <td>5.4</td>\n",
       "    </tr>\n",
       "  </tbody>\n",
       "</table>\n",
       "</div>"
      ],
      "text/plain": [
       "         country confederation  population_share  tv_audience_share  \\\n",
       "0  United States      CONCACAF               4.5                4.3   \n",
       "1          Japan           AFC               1.9                4.9   \n",
       "2          China           AFC              19.5               14.8   \n",
       "3        Germany          UEFA               1.2                2.9   \n",
       "4         Brazil      CONMEBOL               2.8                7.1   \n",
       "\n",
       "   gdp_weighted_share  \n",
       "0                11.3  \n",
       "1                 9.1  \n",
       "2                 7.3  \n",
       "3                 6.3  \n",
       "4                 5.4  "
      ]
     },
     "execution_count": 16,
     "metadata": {},
     "output_type": "execute_result"
    }
   ],
   "source": [
    "df.head()"
   ]
  },
  {
   "cell_type": "code",
   "execution_count": 17,
   "metadata": {},
   "outputs": [
    {
     "data": {
      "text/plain": [
       "191"
      ]
     },
     "execution_count": 17,
     "metadata": {},
     "output_type": "execute_result"
    }
   ],
   "source": [
    "len(df)"
   ]
  },
  {
   "cell_type": "code",
   "execution_count": 18,
   "metadata": {},
   "outputs": [
    {
     "data": {
      "text/plain": [
       "Index(['country', 'confederation', 'population_share', 'tv_audience_share',\n",
       "       'gdp_weighted_share'],\n",
       "      dtype='object')"
      ]
     },
     "execution_count": 18,
     "metadata": {},
     "output_type": "execute_result"
    }
   ],
   "source": [
    "df.columns"
   ]
  },
  {
   "cell_type": "code",
   "execution_count": 19,
   "metadata": {},
   "outputs": [
    {
     "data": {
      "text/plain": [
       "0    United States\n",
       "1            Japan\n",
       "2            China\n",
       "3          Germany\n",
       "4           Brazil\n",
       "Name: country, dtype: object"
      ]
     },
     "execution_count": 19,
     "metadata": {},
     "output_type": "execute_result"
    }
   ],
   "source": [
    "df['country'].head()"
   ]
  },
  {
   "cell_type": "code",
   "execution_count": 20,
   "metadata": {},
   "outputs": [
    {
     "data": {
      "text/plain": [
       "19.5"
      ]
     },
     "execution_count": 20,
     "metadata": {},
     "output_type": "execute_result"
    }
   ],
   "source": [
    "df['population_share'].max()"
   ]
  },
  {
   "cell_type": "code",
   "execution_count": 21,
   "metadata": {},
   "outputs": [
    {
     "data": {
      "text/plain": [
       "0.0"
      ]
     },
     "execution_count": 21,
     "metadata": {},
     "output_type": "execute_result"
    }
   ],
   "source": [
    "df['population_share'].min()"
   ]
  },
  {
   "cell_type": "code",
   "execution_count": 22,
   "metadata": {},
   "outputs": [
    {
     "data": {
      "text/plain": [
       "0.5225130890052356"
      ]
     },
     "execution_count": 22,
     "metadata": {},
     "output_type": "execute_result"
    }
   ],
   "source": [
    "df['population_share'].mean()"
   ]
  },
  {
   "cell_type": "code",
   "execution_count": 23,
   "metadata": {},
   "outputs": [
    {
     "data": {
      "text/plain": [
       "0.1"
      ]
     },
     "execution_count": 23,
     "metadata": {},
     "output_type": "execute_result"
    }
   ],
   "source": [
    "df['population_share'].median()"
   ]
  },
  {
   "cell_type": "code",
   "execution_count": 24,
   "metadata": {},
   "outputs": [
    {
     "data": {
      "text/plain": [
       "1.9603345494788402"
      ]
     },
     "execution_count": 24,
     "metadata": {},
     "output_type": "execute_result"
    }
   ],
   "source": [
    "df['population_share'].std()"
   ]
  },
  {
   "cell_type": "code",
   "execution_count": 25,
   "metadata": {},
   "outputs": [
    {
     "data": {
      "text/plain": [
       "array(['United States', 'Japan', 'China', 'Germany', 'Brazil',\n",
       "       'United Kingdom', 'Italy', 'France', 'Russia', 'Spain',\n",
       "       'South Korea', 'Indonesia', 'Mexico', 'Turkey', 'Thailand',\n",
       "       'Argentina', 'Netherlands', 'Poland', 'Saudi Arabia', 'Taiwan',\n",
       "       'Canada', 'Colombia', 'Venezuela', 'South Africa', 'Malaysia',\n",
       "       'Switzerland', 'Nigeria', 'Belgium', 'Sweden', 'Vietnam', 'Iran',\n",
       "       'Chile', 'Romania', 'Austria', 'Singapore', 'Australia', 'Greece',\n",
       "       'Portugal', 'India', 'Czech Republic', 'Egypt', 'Denmark',\n",
       "       'Norway', 'Peru', 'Ukraine', 'Iraq', 'Hungary', 'Kazakhstan',\n",
       "       'Finland', 'Ireland', 'Algeria', 'Cuba', 'Ecuador', 'Slovakia',\n",
       "       'Qatar', 'Kuwait', 'Bulgaria', 'Serbia', 'Belarus', 'Hong Kong',\n",
       "       'Croatia', 'Oman', 'Dominica Republic', 'Azerbaijan',\n",
       "       'New Zealand', 'Lithuania', 'Slovenia', 'Uruguay', 'Costa Rica',\n",
       "       'Uzbekistan', 'Yemen', 'Israel', 'El Salvador', 'Syria',\n",
       "       'Pakistan', 'Guatemala', 'Paraguay', 'Panama',\n",
       "       'Bosnia-Herzegovina', 'Cambodia', 'Ivory Coast', 'Macau', 'Latvia',\n",
       "       'Lebanon', 'Jordan', 'Honduras', 'Brunei', 'Albania',\n",
       "       'Turkmenistan', 'Angola', 'Estonia', 'Bahrain', 'Nepal', 'Cyprus',\n",
       "       'Ghana', 'Mauritius', 'Macedonia', 'Kenya', 'Trinidad &Tobago',\n",
       "       'Philippines', 'Bolivia', 'Laos', 'Armenia', 'Nicaragua',\n",
       "       'Afghanistan', 'Kosovo', 'Cameroon', 'Senegal', 'Jamaica',\n",
       "       'Sri Lanka', 'Myanmar', 'Moldova', 'Malta', 'Bangladesh', 'Zambia',\n",
       "       'Morocco', 'North Korea', 'Botswana', 'Tajikistan', 'Iceland',\n",
       "       'Uganda', 'Libya', 'Palestine', 'Kyrgyzstan', 'Mongolia',\n",
       "       'Montenegro', 'Tanzania', 'Georgia', 'Suriname', 'Sudan', 'Gabon',\n",
       "       'Madagascar', 'Tunisia', 'Ethiopia', 'Zimbabwe', 'Namibia',\n",
       "       'Bahamas', 'Papua New Guinea', 'Guyana', 'Turks & Caicos',\n",
       "       'Congo DR', 'Burkina Faso', 'Guinea', 'Haiti', 'Fiji', 'Barbados',\n",
       "       'Mali', 'Bermuda', 'St. Maarten', 'Equatorial Guinea',\n",
       "       'Mozambique', 'Seychelles', 'Cape Verde', 'Benin', 'Swaziland',\n",
       "       'Cayman Islands', 'Aruba', 'Maldives', 'Niger', 'Curacao',\n",
       "       'St. Lucia', 'Togo', 'Burundi', 'Congo, Rep.', 'Antigua & Barbuda',\n",
       "       'Chad', 'Eritrea', 'Grenada', 'Lesotho', 'St. Vincent', 'Malawi',\n",
       "       'Sierra Leone', 'Mauritania', 'Solomon Islands', 'Dominica',\n",
       "       'Timor', 'St. Kitts', 'Rwanda', 'Somalia', 'Gambia', 'Samoa',\n",
       "       'Guinea-Bissau', 'Central African Republic', 'Vanuatu',\n",
       "       'American Samoa', 'Cook Islands', 'Tonga', 'Liberia', 'Palau',\n",
       "       'Nauru', 'Niue'], dtype=object)"
      ]
     },
     "execution_count": 25,
     "metadata": {},
     "output_type": "execute_result"
    }
   ],
   "source": [
    "df['country'].unique()"
   ]
  },
  {
   "cell_type": "code",
   "execution_count": 26,
   "metadata": {},
   "outputs": [
    {
     "data": {
      "text/plain": [
       "array(['United States', 'Japan', 'China', 'Germany', 'Brazil',\n",
       "       'United Kingdom', 'Italy', 'France', 'Russia', 'Spain',\n",
       "       'South Korea', 'Indonesia', 'Mexico', 'Turkey', 'Thailand',\n",
       "       'Argentina', 'Netherlands', 'Poland', 'Saudi Arabia', 'Taiwan',\n",
       "       'Canada', 'Colombia', 'Venezuela', 'South Africa', 'Malaysia',\n",
       "       'Switzerland', 'Nigeria', 'Belgium', 'Sweden', 'Vietnam', 'Iran',\n",
       "       'Chile', 'Romania', 'Austria', 'Singapore', 'Australia', 'Greece',\n",
       "       'Portugal', 'India', 'Czech Republic', 'Egypt', 'Denmark',\n",
       "       'Norway', 'Peru', 'Ukraine', 'Iraq', 'Hungary', 'Kazakhstan',\n",
       "       'Finland', 'Ireland', 'Algeria', 'Cuba', 'Ecuador', 'Slovakia',\n",
       "       'Qatar', 'Kuwait', 'Bulgaria', 'Serbia', 'Belarus', 'Hong Kong',\n",
       "       'Croatia', 'Oman', 'Dominica Republic', 'Azerbaijan',\n",
       "       'New Zealand', 'Lithuania', 'Slovenia', 'Uruguay', 'Costa Rica',\n",
       "       'Uzbekistan', 'Yemen', 'Israel', 'El Salvador', 'Syria',\n",
       "       'Pakistan', 'Guatemala', 'Paraguay', 'Panama',\n",
       "       'Bosnia-Herzegovina', 'Cambodia', 'Ivory Coast', 'Macau', 'Latvia',\n",
       "       'Lebanon', 'Jordan', 'Honduras', 'Brunei', 'Albania',\n",
       "       'Turkmenistan', 'Angola', 'Estonia', 'Bahrain', 'Nepal', 'Cyprus',\n",
       "       'Ghana', 'Mauritius', 'Macedonia', 'Kenya', 'Trinidad &Tobago',\n",
       "       'Philippines', 'Bolivia', 'Laos', 'Armenia', 'Nicaragua',\n",
       "       'Afghanistan', 'Kosovo', 'Cameroon', 'Senegal', 'Jamaica',\n",
       "       'Sri Lanka', 'Myanmar', 'Moldova', 'Malta', 'Bangladesh', 'Zambia',\n",
       "       'Morocco', 'North Korea', 'Botswana', 'Tajikistan', 'Iceland',\n",
       "       'Uganda', 'Libya', 'Palestine', 'Kyrgyzstan', 'Mongolia',\n",
       "       'Montenegro', 'Tanzania', 'Georgia', 'Suriname', 'Sudan', 'Gabon',\n",
       "       'Madagascar', 'Tunisia', 'Ethiopia', 'Zimbabwe', 'Namibia',\n",
       "       'Bahamas', 'Papua New Guinea', 'Guyana', 'Turks & Caicos',\n",
       "       'Congo DR', 'Burkina Faso', 'Guinea', 'Haiti', 'Fiji', 'Barbados',\n",
       "       'Mali', 'Bermuda', 'St. Maarten', 'Equatorial Guinea',\n",
       "       'Mozambique', 'Seychelles', 'Cape Verde', 'Benin', 'Swaziland',\n",
       "       'Cayman Islands', 'Aruba', 'Maldives', 'Niger', 'Curacao',\n",
       "       'St. Lucia', 'Togo', 'Burundi', 'Congo, Rep.', 'Antigua & Barbuda',\n",
       "       'Chad', 'Eritrea', 'Grenada', 'Lesotho', 'St. Vincent', 'Malawi',\n",
       "       'Sierra Leone', 'Mauritania', 'Solomon Islands', 'Dominica',\n",
       "       'Timor', 'St. Kitts', 'Rwanda', 'Somalia', 'Gambia', 'Samoa',\n",
       "       'Guinea-Bissau', 'Central African Republic', 'Vanuatu',\n",
       "       'American Samoa', 'Cook Islands', 'Tonga', 'Liberia', 'Palau',\n",
       "       'Nauru', 'Niue', 'CONCACAF', 'AFC', 'AFC', 'UEFA', 'CONMEBOL',\n",
       "       'UEFA', 'UEFA', 'UEFA', 'UEFA', 'UEFA', 'AFC', 'AFC', 'CONCACAF',\n",
       "       'UEFA', 'AFC', 'CONMEBOL', 'UEFA', 'UEFA', 'AFC', 'AFC',\n",
       "       'CONCACAF', 'CONMEBOL', 'CONMEBOL', 'CAF', 'AFC', 'UEFA', 'CAF',\n",
       "       'UEFA', 'UEFA', 'AFC', 'AFC', 'CONMEBOL', 'UEFA', 'UEFA', 'AFC',\n",
       "       'AFC', 'UEFA', 'UEFA', 'AFC', 'UEFA', 'CAF', 'UEFA', 'UEFA',\n",
       "       'CONMEBOL', 'UEFA', 'AFC', 'UEFA', 'UEFA', 'UEFA', 'UEFA', 'CAF',\n",
       "       'CONCACAF', 'CONMEBOL', 'UEFA', 'AFC', 'AFC', 'UEFA', 'UEFA',\n",
       "       'UEFA', 'AFC', 'UEFA', 'AFC', 'CONCACAF', 'UEFA', 'OFC', 'UEFA',\n",
       "       'UEFA', 'CONMEBOL', 'CONCACAF', 'AFC', 'CAF', 'UEFA', 'CONCACAF',\n",
       "       'AFC', 'AFC', 'CONCACAF', 'CONMEBOL', 'CONCACAF', 'UEFA', 'AFC',\n",
       "       'CAF', 'AFC', 'UEFA', 'AFC', 'AFC', 'CONCACAF', 'AFC', 'UEFA',\n",
       "       'AFC', 'CAF', 'UEFA', 'AFC', 'AFC', 'UEFA', 'CAF', 'CAF', 'UEFA',\n",
       "       'CAF', 'CONCACAF', 'AFC', 'CONMEBOL', 'AFC', 'UEFA', 'CONCACAF',\n",
       "       'AFC', 'UEFA', 'CAF', 'CAF', 'CONCACAF', 'AFC', 'AFC', 'UEFA',\n",
       "       'UEFA', 'AFC', 'CAF', 'CAF', 'AFC', 'CAF', 'AFC', 'UEFA', 'CAF',\n",
       "       'CAF', 'AFC', 'AFC', 'AFC', 'UEFA', 'CAF', 'UEFA', 'CONCACAF',\n",
       "       'CAF', 'CAF', 'CAF', 'AFC', 'CAF', 'CAF', 'CAF', 'CONCACAF', 'OFC',\n",
       "       'CONCACAF', 'CONCACAF', 'CAF', 'CAF', 'CAF', 'CONCACAF', 'OFC',\n",
       "       'CONCACAF', 'CAF', 'CONCACAF', 'CONCACAF', 'CAF', 'CAF', 'CAF',\n",
       "       'CAF', 'CAF', 'CAF', 'CONCACAF', 'CONCACAF', 'AFC', 'CAF',\n",
       "       'CONCACAF', 'CONCACAF', 'CAF', 'CAF', 'CAF', 'CONCACAF', 'CAF',\n",
       "       'CAF', 'CONCACAF', 'CAF', 'CONCACAF', 'CAF', 'CAF', 'CAF', 'OFC',\n",
       "       'CONCACAF', 'AFC', 'CONCACAF', 'CAF', 'CAF', 'CAF', 'OFC', 'CAF',\n",
       "       'CAF', 'OFC', 'OFC', 'OFC', 'OFC', 'CAF', 'OFC', 'OFC', 'OFC'],\n",
       "      dtype=object)"
      ]
     },
     "execution_count": 26,
     "metadata": {},
     "output_type": "execute_result"
    }
   ],
   "source": [
    "df[['country', 'confederation']].values.ravel('K')"
   ]
  },
  {
   "cell_type": "markdown",
   "metadata": {},
   "source": [
    "Protip: Jupyter Lab has the pandas reference (documentation) built into the IDE \n",
    "\n",
    "Help -> pandas Reference"
   ]
  },
  {
   "cell_type": "markdown",
   "metadata": {},
   "source": [
    "Pandas plays nicely with matplotlib:"
   ]
  },
  {
   "cell_type": "code",
   "execution_count": 27,
   "metadata": {},
   "outputs": [],
   "source": [
    "import matplotlib.pyplot as plt"
   ]
  },
  {
   "cell_type": "code",
   "execution_count": 28,
   "metadata": {},
   "outputs": [
    {
     "data": {
      "image/png": "[encoded data removed]",
      "text/plain": [
       "<Figure size 432x288 with 1 Axes>"
      ]
     },
     "metadata": {
      "needs_background": "light"
     },
     "output_type": "display_data"
    }
   ],
   "source": [
    "df.boxplot()\n",
    "plt.show()"
   ]
  },
  {
   "cell_type": "code",
   "execution_count": 29,
   "metadata": {},
   "outputs": [
    {
     "data": {
      "image/png": "[encoded data removed]",
      "text/plain": [
       "<Figure size 432x288 with 1 Axes>"
      ]
     },
     "metadata": {
      "needs_background": "light"
     },
     "output_type": "display_data"
    }
   ],
   "source": [
    "plt.boxplot(df['population_share'])\n",
    "plt.show()"
   ]
  },
  {
   "cell_type": "markdown",
   "metadata": {},
   "source": [
    "#### Aside: Masks"
   ]
  },
  {
   "cell_type": "code",
   "execution_count": 30,
   "metadata": {},
   "outputs": [],
   "source": [
    "import numpy as np"
   ]
  },
  {
   "cell_type": "code",
   "execution_count": 31,
   "metadata": {},
   "outputs": [
    {
     "data": {
      "text/plain": [
       "array([0, 1, 2, 3, 4, 5, 6, 7, 8, 9])"
      ]
     },
     "execution_count": 31,
     "metadata": {},
     "output_type": "execute_result"
    }
   ],
   "source": [
    "np.arange(10)"
   ]
  },
  {
   "cell_type": "code",
   "execution_count": 32,
   "metadata": {},
   "outputs": [
    {
     "data": {
      "text/plain": [
       "array([False, False, False, False, False, False,  True,  True,  True,\n",
       "        True])"
      ]
     },
     "execution_count": 32,
     "metadata": {},
     "output_type": "execute_result"
    }
   ],
   "source": [
    "np.arange(10) > 5"
   ]
  },
  {
   "cell_type": "code",
   "execution_count": 33,
   "metadata": {},
   "outputs": [
    {
     "data": {
      "text/plain": [
       "array([6, 7, 8, 9])"
      ]
     },
     "execution_count": 33,
     "metadata": {},
     "output_type": "execute_result"
    }
   ],
   "source": [
    "np.arange(10)[\n",
    "    np.arange(10) > 5\n",
    "]"
   ]
  },
  {
   "cell_type": "markdown",
   "metadata": {},
   "source": [
    "#### Pandas: Querying"
   ]
  },
  {
   "cell_type": "code",
   "execution_count": 34,
   "metadata": {},
   "outputs": [
    {
     "data": {
      "text/html": [
       "<div>\n",
       "<style scoped>\n",
       "    .dataframe tbody tr th:only-of-type {\n",
       "        vertical-align: middle;\n",
       "    }\n",
       "\n",
       "    .dataframe tbody tr th {\n",
       "        vertical-align: top;\n",
       "    }\n",
       "\n",
       "    .dataframe thead th {\n",
       "        text-align: right;\n",
       "    }\n",
       "</style>\n",
       "<table border=\"1\" class=\"dataframe\">\n",
       "  <thead>\n",
       "    <tr style=\"text-align: right;\">\n",
       "      <th></th>\n",
       "      <th>country</th>\n",
       "      <th>confederation</th>\n",
       "      <th>population_share</th>\n",
       "      <th>tv_audience_share</th>\n",
       "      <th>gdp_weighted_share</th>\n",
       "    </tr>\n",
       "  </thead>\n",
       "  <tbody>\n",
       "    <tr>\n",
       "      <th>0</th>\n",
       "      <td>United States</td>\n",
       "      <td>CONCACAF</td>\n",
       "      <td>4.5</td>\n",
       "      <td>4.3</td>\n",
       "      <td>11.3</td>\n",
       "    </tr>\n",
       "    <tr>\n",
       "      <th>1</th>\n",
       "      <td>Japan</td>\n",
       "      <td>AFC</td>\n",
       "      <td>1.9</td>\n",
       "      <td>4.9</td>\n",
       "      <td>9.1</td>\n",
       "    </tr>\n",
       "    <tr>\n",
       "      <th>2</th>\n",
       "      <td>China</td>\n",
       "      <td>AFC</td>\n",
       "      <td>19.5</td>\n",
       "      <td>14.8</td>\n",
       "      <td>7.3</td>\n",
       "    </tr>\n",
       "    <tr>\n",
       "      <th>3</th>\n",
       "      <td>Germany</td>\n",
       "      <td>UEFA</td>\n",
       "      <td>1.2</td>\n",
       "      <td>2.9</td>\n",
       "      <td>6.3</td>\n",
       "    </tr>\n",
       "    <tr>\n",
       "      <th>4</th>\n",
       "      <td>Brazil</td>\n",
       "      <td>CONMEBOL</td>\n",
       "      <td>2.8</td>\n",
       "      <td>7.1</td>\n",
       "      <td>5.4</td>\n",
       "    </tr>\n",
       "  </tbody>\n",
       "</table>\n",
       "</div>"
      ],
      "text/plain": [
       "         country confederation  population_share  tv_audience_share  \\\n",
       "0  United States      CONCACAF               4.5                4.3   \n",
       "1          Japan           AFC               1.9                4.9   \n",
       "2          China           AFC              19.5               14.8   \n",
       "3        Germany          UEFA               1.2                2.9   \n",
       "4         Brazil      CONMEBOL               2.8                7.1   \n",
       "\n",
       "   gdp_weighted_share  \n",
       "0                11.3  \n",
       "1                 9.1  \n",
       "2                 7.3  \n",
       "3                 6.3  \n",
       "4                 5.4  "
      ]
     },
     "execution_count": 34,
     "metadata": {},
     "output_type": "execute_result"
    }
   ],
   "source": [
    "df.head()"
   ]
  },
  {
   "cell_type": "code",
   "execution_count": 35,
   "metadata": {},
   "outputs": [
    {
     "data": {
      "text/plain": [
       "0    False\n",
       "1     True\n",
       "2    False\n",
       "3    False\n",
       "4    False\n",
       "Name: country, dtype: bool"
      ]
     },
     "execution_count": 35,
     "metadata": {},
     "output_type": "execute_result"
    }
   ],
   "source": [
    "df.head()['country'] == 'Japan'"
   ]
  },
  {
   "cell_type": "code",
   "execution_count": 36,
   "metadata": {},
   "outputs": [
    {
     "data": {
      "text/html": [
       "<div>\n",
       "<style scoped>\n",
       "    .dataframe tbody tr th:only-of-type {\n",
       "        vertical-align: middle;\n",
       "    }\n",
       "\n",
       "    .dataframe tbody tr th {\n",
       "        vertical-align: top;\n",
       "    }\n",
       "\n",
       "    .dataframe thead th {\n",
       "        text-align: right;\n",
       "    }\n",
       "</style>\n",
       "<table border=\"1\" class=\"dataframe\">\n",
       "  <thead>\n",
       "    <tr style=\"text-align: right;\">\n",
       "      <th></th>\n",
       "      <th>country</th>\n",
       "      <th>confederation</th>\n",
       "      <th>population_share</th>\n",
       "      <th>tv_audience_share</th>\n",
       "      <th>gdp_weighted_share</th>\n",
       "    </tr>\n",
       "  </thead>\n",
       "  <tbody>\n",
       "    <tr>\n",
       "      <th>1</th>\n",
       "      <td>Japan</td>\n",
       "      <td>AFC</td>\n",
       "      <td>1.9</td>\n",
       "      <td>4.9</td>\n",
       "      <td>9.1</td>\n",
       "    </tr>\n",
       "  </tbody>\n",
       "</table>\n",
       "</div>"
      ],
      "text/plain": [
       "  country confederation  population_share  tv_audience_share  \\\n",
       "1   Japan           AFC               1.9                4.9   \n",
       "\n",
       "   gdp_weighted_share  \n",
       "1                 9.1  "
      ]
     },
     "execution_count": 36,
     "metadata": {},
     "output_type": "execute_result"
    }
   ],
   "source": [
    "df.head().loc[df.head()['country'] == 'Japan']"
   ]
  },
  {
   "cell_type": "code",
   "execution_count": 37,
   "metadata": {},
   "outputs": [
    {
     "data": {
      "text/html": [
       "<div>\n",
       "<style scoped>\n",
       "    .dataframe tbody tr th:only-of-type {\n",
       "        vertical-align: middle;\n",
       "    }\n",
       "\n",
       "    .dataframe tbody tr th {\n",
       "        vertical-align: top;\n",
       "    }\n",
       "\n",
       "    .dataframe thead th {\n",
       "        text-align: right;\n",
       "    }\n",
       "</style>\n",
       "<table border=\"1\" class=\"dataframe\">\n",
       "  <thead>\n",
       "    <tr style=\"text-align: right;\">\n",
       "      <th></th>\n",
       "      <th>country</th>\n",
       "      <th>confederation</th>\n",
       "      <th>population_share</th>\n",
       "      <th>tv_audience_share</th>\n",
       "      <th>gdp_weighted_share</th>\n",
       "    </tr>\n",
       "  </thead>\n",
       "  <tbody>\n",
       "    <tr>\n",
       "      <th>1</th>\n",
       "      <td>Japan</td>\n",
       "      <td>AFC</td>\n",
       "      <td>1.9</td>\n",
       "      <td>4.9</td>\n",
       "      <td>9.1</td>\n",
       "    </tr>\n",
       "  </tbody>\n",
       "</table>\n",
       "</div>"
      ],
      "text/plain": [
       "  country confederation  population_share  tv_audience_share  \\\n",
       "1   Japan           AFC               1.9                4.9   \n",
       "\n",
       "   gdp_weighted_share  \n",
       "1                 9.1  "
      ]
     },
     "execution_count": 37,
     "metadata": {},
     "output_type": "execute_result"
    }
   ],
   "source": [
    "df.head()[\n",
    "    df.head()['country'] == 'Japan'\n",
    "]"
   ]
  },
  {
   "cell_type": "markdown",
   "metadata": {},
   "source": [
    "I like to generously use newlines, especially when things get more complicated:"
   ]
  },
  {
   "cell_type": "code",
   "execution_count": 38,
   "metadata": {},
   "outputs": [
    {
     "data": {
      "text/html": [
       "<div>\n",
       "<style scoped>\n",
       "    .dataframe tbody tr th:only-of-type {\n",
       "        vertical-align: middle;\n",
       "    }\n",
       "\n",
       "    .dataframe tbody tr th {\n",
       "        vertical-align: top;\n",
       "    }\n",
       "\n",
       "    .dataframe thead th {\n",
       "        text-align: right;\n",
       "    }\n",
       "</style>\n",
       "<table border=\"1\" class=\"dataframe\">\n",
       "  <thead>\n",
       "    <tr style=\"text-align: right;\">\n",
       "      <th></th>\n",
       "      <th>country</th>\n",
       "      <th>confederation</th>\n",
       "      <th>population_share</th>\n",
       "      <th>tv_audience_share</th>\n",
       "      <th>gdp_weighted_share</th>\n",
       "    </tr>\n",
       "  </thead>\n",
       "  <tbody>\n",
       "    <tr>\n",
       "      <th>1</th>\n",
       "      <td>Japan</td>\n",
       "      <td>AFC</td>\n",
       "      <td>1.9</td>\n",
       "      <td>4.9</td>\n",
       "      <td>9.1</td>\n",
       "    </tr>\n",
       "    <tr>\n",
       "      <th>10</th>\n",
       "      <td>South Korea</td>\n",
       "      <td>AFC</td>\n",
       "      <td>0.7</td>\n",
       "      <td>1.8</td>\n",
       "      <td>3.0</td>\n",
       "    </tr>\n",
       "    <tr>\n",
       "      <th>14</th>\n",
       "      <td>Thailand</td>\n",
       "      <td>AFC</td>\n",
       "      <td>1.0</td>\n",
       "      <td>2.4</td>\n",
       "      <td>1.6</td>\n",
       "    </tr>\n",
       "    <tr>\n",
       "      <th>18</th>\n",
       "      <td>Saudi Arabia</td>\n",
       "      <td>AFC</td>\n",
       "      <td>0.4</td>\n",
       "      <td>0.5</td>\n",
       "      <td>1.2</td>\n",
       "    </tr>\n",
       "    <tr>\n",
       "      <th>19</th>\n",
       "      <td>Taiwan</td>\n",
       "      <td>AFC</td>\n",
       "      <td>0.3</td>\n",
       "      <td>0.5</td>\n",
       "      <td>1.0</td>\n",
       "    </tr>\n",
       "  </tbody>\n",
       "</table>\n",
       "</div>"
      ],
      "text/plain": [
       "         country confederation  population_share  tv_audience_share  \\\n",
       "1          Japan           AFC               1.9                4.9   \n",
       "10   South Korea           AFC               0.7                1.8   \n",
       "14      Thailand           AFC               1.0                2.4   \n",
       "18  Saudi Arabia           AFC               0.4                0.5   \n",
       "19        Taiwan           AFC               0.3                0.5   \n",
       "\n",
       "    gdp_weighted_share  \n",
       "1                  9.1  \n",
       "10                 3.0  \n",
       "14                 1.6  \n",
       "18                 1.2  \n",
       "19                 1.0  "
      ]
     },
     "execution_count": 38,
     "metadata": {},
     "output_type": "execute_result"
    }
   ],
   "source": [
    "(\n",
    "    df[\n",
    "        (df['tv_audience_share'] < 5) &\n",
    "        (df['confederation'].isin(['AFC', 'CAF']))   \n",
    "    ]\n",
    ").head()"
   ]
  },
  {
   "cell_type": "markdown",
   "metadata": {},
   "source": [
    "Note: When you want to change subsets of the data while keeping the previous reference, you may have to use `.loc`, there will probably be a `SettingWithCopyWarning` that let's you know you're changing a copy:"
   ]
  },
  {
   "cell_type": "code",
   "execution_count": 39,
   "metadata": {},
   "outputs": [],
   "source": [
    "tmp_df = df[\n",
    "    df['country'] == 'Japan'\n",
    "]"
   ]
  },
  {
   "cell_type": "code",
   "execution_count": 40,
   "metadata": {},
   "outputs": [
    {
     "name": "stderr",
     "output_type": "stream",
     "text": [
      "/Users/alex/anaconda/lib/python3.7/site-packages/ipykernel_launcher.py:1: SettingWithCopyWarning: \n",
      "A value is trying to be set on a copy of a slice from a DataFrame.\n",
      "Try using .loc[row_indexer,col_indexer] = value instead\n",
      "\n",
      "See the caveats in the documentation: http://pandas.pydata.org/pandas-docs/stable/indexing.html#indexing-view-versus-copy\n",
      "  \"\"\"Entry point for launching an IPython kernel.\n"
     ]
    }
   ],
   "source": [
    "tmp_df['country'] = 'JAPAN'"
   ]
  },
  {
   "cell_type": "code",
   "execution_count": 41,
   "metadata": {},
   "outputs": [
    {
     "data": {
      "text/html": [
       "<div>\n",
       "<style scoped>\n",
       "    .dataframe tbody tr th:only-of-type {\n",
       "        vertical-align: middle;\n",
       "    }\n",
       "\n",
       "    .dataframe tbody tr th {\n",
       "        vertical-align: top;\n",
       "    }\n",
       "\n",
       "    .dataframe thead th {\n",
       "        text-align: right;\n",
       "    }\n",
       "</style>\n",
       "<table border=\"1\" class=\"dataframe\">\n",
       "  <thead>\n",
       "    <tr style=\"text-align: right;\">\n",
       "      <th></th>\n",
       "      <th>country</th>\n",
       "      <th>confederation</th>\n",
       "      <th>population_share</th>\n",
       "      <th>tv_audience_share</th>\n",
       "      <th>gdp_weighted_share</th>\n",
       "    </tr>\n",
       "  </thead>\n",
       "  <tbody>\n",
       "    <tr>\n",
       "      <th>1</th>\n",
       "      <td>JAPAN</td>\n",
       "      <td>AFC</td>\n",
       "      <td>1.9</td>\n",
       "      <td>4.9</td>\n",
       "      <td>9.1</td>\n",
       "    </tr>\n",
       "  </tbody>\n",
       "</table>\n",
       "</div>"
      ],
      "text/plain": [
       "  country confederation  population_share  tv_audience_share  \\\n",
       "1   JAPAN           AFC               1.9                4.9   \n",
       "\n",
       "   gdp_weighted_share  \n",
       "1                 9.1  "
      ]
     },
     "execution_count": 41,
     "metadata": {},
     "output_type": "execute_result"
    }
   ],
   "source": [
    "tmp_df.head()"
   ]
  },
  {
   "cell_type": "code",
   "execution_count": 42,
   "metadata": {},
   "outputs": [
    {
     "data": {
      "text/html": [
       "<div>\n",
       "<style scoped>\n",
       "    .dataframe tbody tr th:only-of-type {\n",
       "        vertical-align: middle;\n",
       "    }\n",
       "\n",
       "    .dataframe tbody tr th {\n",
       "        vertical-align: top;\n",
       "    }\n",
       "\n",
       "    .dataframe thead th {\n",
       "        text-align: right;\n",
       "    }\n",
       "</style>\n",
       "<table border=\"1\" class=\"dataframe\">\n",
       "  <thead>\n",
       "    <tr style=\"text-align: right;\">\n",
       "      <th></th>\n",
       "      <th>country</th>\n",
       "      <th>confederation</th>\n",
       "      <th>population_share</th>\n",
       "      <th>tv_audience_share</th>\n",
       "      <th>gdp_weighted_share</th>\n",
       "    </tr>\n",
       "  </thead>\n",
       "  <tbody>\n",
       "    <tr>\n",
       "      <th>0</th>\n",
       "      <td>United States</td>\n",
       "      <td>CONCACAF</td>\n",
       "      <td>4.5</td>\n",
       "      <td>4.3</td>\n",
       "      <td>11.3</td>\n",
       "    </tr>\n",
       "    <tr>\n",
       "      <th>1</th>\n",
       "      <td>Japan</td>\n",
       "      <td>AFC</td>\n",
       "      <td>1.9</td>\n",
       "      <td>4.9</td>\n",
       "      <td>9.1</td>\n",
       "    </tr>\n",
       "    <tr>\n",
       "      <th>2</th>\n",
       "      <td>China</td>\n",
       "      <td>AFC</td>\n",
       "      <td>19.5</td>\n",
       "      <td>14.8</td>\n",
       "      <td>7.3</td>\n",
       "    </tr>\n",
       "    <tr>\n",
       "      <th>3</th>\n",
       "      <td>Germany</td>\n",
       "      <td>UEFA</td>\n",
       "      <td>1.2</td>\n",
       "      <td>2.9</td>\n",
       "      <td>6.3</td>\n",
       "    </tr>\n",
       "    <tr>\n",
       "      <th>4</th>\n",
       "      <td>Brazil</td>\n",
       "      <td>CONMEBOL</td>\n",
       "      <td>2.8</td>\n",
       "      <td>7.1</td>\n",
       "      <td>5.4</td>\n",
       "    </tr>\n",
       "  </tbody>\n",
       "</table>\n",
       "</div>"
      ],
      "text/plain": [
       "         country confederation  population_share  tv_audience_share  \\\n",
       "0  United States      CONCACAF               4.5                4.3   \n",
       "1          Japan           AFC               1.9                4.9   \n",
       "2          China           AFC              19.5               14.8   \n",
       "3        Germany          UEFA               1.2                2.9   \n",
       "4         Brazil      CONMEBOL               2.8                7.1   \n",
       "\n",
       "   gdp_weighted_share  \n",
       "0                11.3  \n",
       "1                 9.1  \n",
       "2                 7.3  \n",
       "3                 6.3  \n",
       "4                 5.4  "
      ]
     },
     "execution_count": 42,
     "metadata": {},
     "output_type": "execute_result"
    }
   ],
   "source": [
    "df.head()"
   ]
  },
  {
   "cell_type": "markdown",
   "metadata": {},
   "source": [
    "#### Pandas: Grouping"
   ]
  },
  {
   "cell_type": "code",
   "execution_count": 43,
   "metadata": {},
   "outputs": [
    {
     "data": {
      "text/plain": [
       "<pandas.core.groupby.generic.DataFrameGroupBy object at 0x1155f4208>"
      ]
     },
     "execution_count": 43,
     "metadata": {},
     "output_type": "execute_result"
    }
   ],
   "source": [
    "df.groupby('confederation')"
   ]
  },
  {
   "cell_type": "code",
   "execution_count": 44,
   "metadata": {},
   "outputs": [
    {
     "data": {
      "text/plain": [
       "{'AFC': Int64Index([  1,   2,  10,  11,  14,  18,  19,  24,  29,  30,  34,  35,  38,\n",
       "              45,  54,  55,  59,  61,  69,  73,  74,  79,  81,  83,  84,  86,\n",
       "              88,  91,  92,  99, 101, 104, 109, 110, 113, 116, 118, 122, 123,\n",
       "             124, 132, 157, 175],\n",
       "            dtype='int64'),\n",
       " 'CAF': Int64Index([ 23,  26,  40,  50,  70,  80,  89,  94,  95,  97, 106, 107, 114,\n",
       "             115, 117, 120, 121, 126, 129, 130, 131, 133, 134, 135, 140, 141,\n",
       "             142, 146, 149, 150, 151, 152, 153, 154, 158, 161, 162, 163, 165,\n",
       "             166, 168, 170, 171, 172, 177, 178, 179, 181, 182, 187],\n",
       "            dtype='int64'),\n",
       " 'CONCACAF': Int64Index([  0,  12,  20,  51,  62,  68,  72,  75,  77,  85,  98, 103, 108,\n",
       "             128, 136, 138, 139, 143, 145, 147, 148, 155, 156, 159, 160, 164,\n",
       "             167, 169, 174, 176],\n",
       "            dtype='int64'),\n",
       " 'CONMEBOL': Int64Index([4, 15, 21, 22, 31, 43, 52, 67, 76, 100], dtype='int64'),\n",
       " 'OFC': Int64Index([64, 137, 144, 173, 180, 183, 184, 185, 186, 188, 189, 190], dtype='int64'),\n",
       " 'UEFA': Int64Index([  3,   5,   6,   7,   8,   9,  13,  16,  17,  25,  27,  28,  32,\n",
       "              33,  36,  37,  39,  41,  42,  44,  46,  47,  48,  49,  53,  56,\n",
       "              57,  58,  60,  63,  65,  66,  71,  78,  82,  87,  90,  93,  96,\n",
       "             102, 105, 111, 112, 119, 125, 127],\n",
       "            dtype='int64')}"
      ]
     },
     "execution_count": 44,
     "metadata": {},
     "output_type": "execute_result"
    }
   ],
   "source": [
    "df.groupby('confederation').groups"
   ]
  },
  {
   "cell_type": "code",
   "execution_count": 45,
   "metadata": {},
   "outputs": [
    {
     "data": {
      "text/plain": [
       "confederation\n",
       "AFC         43\n",
       "CAF         50\n",
       "CONCACAF    30\n",
       "CONMEBOL    10\n",
       "OFC         12\n",
       "UEFA        46\n",
       "dtype: int64"
      ]
     },
     "execution_count": 45,
     "metadata": {},
     "output_type": "execute_result"
    }
   ],
   "source": [
    "df.groupby('confederation').size()"
   ]
  },
  {
   "cell_type": "code",
   "execution_count": 46,
   "metadata": {},
   "outputs": [
    {
     "data": {
      "text/html": [
       "<div>\n",
       "<style scoped>\n",
       "    .dataframe tbody tr th:only-of-type {\n",
       "        vertical-align: middle;\n",
       "    }\n",
       "\n",
       "    .dataframe tbody tr th {\n",
       "        vertical-align: top;\n",
       "    }\n",
       "\n",
       "    .dataframe thead th {\n",
       "        text-align: right;\n",
       "    }\n",
       "</style>\n",
       "<table border=\"1\" class=\"dataframe\">\n",
       "  <thead>\n",
       "    <tr style=\"text-align: right;\">\n",
       "      <th></th>\n",
       "      <th>country</th>\n",
       "      <th>population_share</th>\n",
       "      <th>tv_audience_share</th>\n",
       "      <th>gdp_weighted_share</th>\n",
       "    </tr>\n",
       "    <tr>\n",
       "      <th>confederation</th>\n",
       "      <th></th>\n",
       "      <th></th>\n",
       "      <th></th>\n",
       "      <th></th>\n",
       "    </tr>\n",
       "  </thead>\n",
       "  <tbody>\n",
       "    <tr>\n",
       "      <th>AFC</th>\n",
       "      <td>Vietnam</td>\n",
       "      <td>19.5</td>\n",
       "      <td>14.8</td>\n",
       "      <td>9.1</td>\n",
       "    </tr>\n",
       "    <tr>\n",
       "      <th>CAF</th>\n",
       "      <td>Zimbabwe</td>\n",
       "      <td>2.3</td>\n",
       "      <td>2.6</td>\n",
       "      <td>0.8</td>\n",
       "    </tr>\n",
       "    <tr>\n",
       "      <th>CONCACAF</th>\n",
       "      <td>United States</td>\n",
       "      <td>4.5</td>\n",
       "      <td>4.3</td>\n",
       "      <td>11.3</td>\n",
       "    </tr>\n",
       "    <tr>\n",
       "      <th>CONMEBOL</th>\n",
       "      <td>Venezuela</td>\n",
       "      <td>2.8</td>\n",
       "      <td>7.1</td>\n",
       "      <td>5.4</td>\n",
       "    </tr>\n",
       "    <tr>\n",
       "      <th>OFC</th>\n",
       "      <td>Vanuatu</td>\n",
       "      <td>0.1</td>\n",
       "      <td>0.1</td>\n",
       "      <td>0.1</td>\n",
       "    </tr>\n",
       "    <tr>\n",
       "      <th>UEFA</th>\n",
       "      <td>United Kingdom</td>\n",
       "      <td>2.1</td>\n",
       "      <td>3.1</td>\n",
       "      <td>6.3</td>\n",
       "    </tr>\n",
       "  </tbody>\n",
       "</table>\n",
       "</div>"
      ],
      "text/plain": [
       "                      country  population_share  tv_audience_share  \\\n",
       "confederation                                                        \n",
       "AFC                   Vietnam              19.5               14.8   \n",
       "CAF                  Zimbabwe               2.3                2.6   \n",
       "CONCACAF        United States               4.5                4.3   \n",
       "CONMEBOL            Venezuela               2.8                7.1   \n",
       "OFC                   Vanuatu               0.1                0.1   \n",
       "UEFA           United Kingdom               2.1                3.1   \n",
       "\n",
       "               gdp_weighted_share  \n",
       "confederation                      \n",
       "AFC                           9.1  \n",
       "CAF                           0.8  \n",
       "CONCACAF                     11.3  \n",
       "CONMEBOL                      5.4  \n",
       "OFC                           0.1  \n",
       "UEFA                          6.3  "
      ]
     },
     "execution_count": 46,
     "metadata": {},
     "output_type": "execute_result"
    }
   ],
   "source": [
    "df.groupby('confederation').max()"
   ]
  },
  {
   "cell_type": "code",
   "execution_count": 47,
   "metadata": {},
   "outputs": [
    {
     "data": {
      "text/html": [
       "<div>\n",
       "<style scoped>\n",
       "    .dataframe tbody tr th:only-of-type {\n",
       "        vertical-align: middle;\n",
       "    }\n",
       "\n",
       "    .dataframe tbody tr th {\n",
       "        vertical-align: top;\n",
       "    }\n",
       "\n",
       "    .dataframe thead th {\n",
       "        text-align: right;\n",
       "    }\n",
       "</style>\n",
       "<table border=\"1\" class=\"dataframe\">\n",
       "  <thead>\n",
       "    <tr style=\"text-align: right;\">\n",
       "      <th></th>\n",
       "      <th>country</th>\n",
       "      <th>population_share</th>\n",
       "      <th>tv_audience_share</th>\n",
       "      <th>gdp_weighted_share</th>\n",
       "    </tr>\n",
       "    <tr>\n",
       "      <th>confederation</th>\n",
       "      <th></th>\n",
       "      <th></th>\n",
       "      <th></th>\n",
       "      <th></th>\n",
       "    </tr>\n",
       "  </thead>\n",
       "  <tbody>\n",
       "    <tr>\n",
       "      <th>AFC</th>\n",
       "      <td>Afghanistan</td>\n",
       "      <td>0.0</td>\n",
       "      <td>0.0</td>\n",
       "      <td>0.0</td>\n",
       "    </tr>\n",
       "    <tr>\n",
       "      <th>CAF</th>\n",
       "      <td>Algeria</td>\n",
       "      <td>0.0</td>\n",
       "      <td>0.0</td>\n",
       "      <td>0.0</td>\n",
       "    </tr>\n",
       "    <tr>\n",
       "      <th>CONCACAF</th>\n",
       "      <td>Antigua &amp; Barbuda</td>\n",
       "      <td>0.0</td>\n",
       "      <td>0.0</td>\n",
       "      <td>0.0</td>\n",
       "    </tr>\n",
       "    <tr>\n",
       "      <th>CONMEBOL</th>\n",
       "      <td>Argentina</td>\n",
       "      <td>0.0</td>\n",
       "      <td>0.1</td>\n",
       "      <td>0.0</td>\n",
       "    </tr>\n",
       "    <tr>\n",
       "      <th>OFC</th>\n",
       "      <td>American Samoa</td>\n",
       "      <td>0.0</td>\n",
       "      <td>0.0</td>\n",
       "      <td>0.0</td>\n",
       "    </tr>\n",
       "    <tr>\n",
       "      <th>UEFA</th>\n",
       "      <td>Albania</td>\n",
       "      <td>0.0</td>\n",
       "      <td>0.0</td>\n",
       "      <td>0.0</td>\n",
       "    </tr>\n",
       "  </tbody>\n",
       "</table>\n",
       "</div>"
      ],
      "text/plain": [
       "                         country  population_share  tv_audience_share  \\\n",
       "confederation                                                           \n",
       "AFC                  Afghanistan               0.0                0.0   \n",
       "CAF                      Algeria               0.0                0.0   \n",
       "CONCACAF       Antigua & Barbuda               0.0                0.0   \n",
       "CONMEBOL               Argentina               0.0                0.1   \n",
       "OFC               American Samoa               0.0                0.0   \n",
       "UEFA                     Albania               0.0                0.0   \n",
       "\n",
       "               gdp_weighted_share  \n",
       "confederation                      \n",
       "AFC                           0.0  \n",
       "CAF                           0.0  \n",
       "CONCACAF                      0.0  \n",
       "CONMEBOL                      0.0  \n",
       "OFC                           0.0  \n",
       "UEFA                          0.0  "
      ]
     },
     "execution_count": 47,
     "metadata": {},
     "output_type": "execute_result"
    }
   ],
   "source": [
    "df.groupby('confederation').min()"
   ]
  },
  {
   "cell_type": "markdown",
   "metadata": {},
   "source": [
    "Note the aggregation across columns!"
   ]
  },
  {
   "cell_type": "code",
   "execution_count": 48,
   "metadata": {},
   "outputs": [
    {
     "data": {
      "text/html": [
       "<div>\n",
       "<style scoped>\n",
       "    .dataframe tbody tr th:only-of-type {\n",
       "        vertical-align: middle;\n",
       "    }\n",
       "\n",
       "    .dataframe tbody tr th {\n",
       "        vertical-align: top;\n",
       "    }\n",
       "\n",
       "    .dataframe thead th {\n",
       "        text-align: right;\n",
       "    }\n",
       "</style>\n",
       "<table border=\"1\" class=\"dataframe\">\n",
       "  <thead>\n",
       "    <tr style=\"text-align: right;\">\n",
       "      <th></th>\n",
       "      <th>country</th>\n",
       "      <th>population_share</th>\n",
       "      <th>tv_audience_share</th>\n",
       "      <th>gdp_weighted_share</th>\n",
       "    </tr>\n",
       "    <tr>\n",
       "      <th>confederation</th>\n",
       "      <th></th>\n",
       "      <th></th>\n",
       "      <th></th>\n",
       "      <th></th>\n",
       "    </tr>\n",
       "  </thead>\n",
       "  <tbody>\n",
       "    <tr>\n",
       "      <th>AFC</th>\n",
       "      <td>Japan</td>\n",
       "      <td>1.9</td>\n",
       "      <td>4.9</td>\n",
       "      <td>9.1</td>\n",
       "    </tr>\n",
       "    <tr>\n",
       "      <th>CAF</th>\n",
       "      <td>South Africa</td>\n",
       "      <td>0.7</td>\n",
       "      <td>1.3</td>\n",
       "      <td>0.8</td>\n",
       "    </tr>\n",
       "    <tr>\n",
       "      <th>CONCACAF</th>\n",
       "      <td>United States</td>\n",
       "      <td>4.5</td>\n",
       "      <td>4.3</td>\n",
       "      <td>11.3</td>\n",
       "    </tr>\n",
       "    <tr>\n",
       "      <th>CONMEBOL</th>\n",
       "      <td>Brazil</td>\n",
       "      <td>2.8</td>\n",
       "      <td>7.1</td>\n",
       "      <td>5.4</td>\n",
       "    </tr>\n",
       "    <tr>\n",
       "      <th>OFC</th>\n",
       "      <td>New Zealand</td>\n",
       "      <td>0.1</td>\n",
       "      <td>0.1</td>\n",
       "      <td>0.1</td>\n",
       "    </tr>\n",
       "    <tr>\n",
       "      <th>UEFA</th>\n",
       "      <td>Germany</td>\n",
       "      <td>1.2</td>\n",
       "      <td>2.9</td>\n",
       "      <td>6.3</td>\n",
       "    </tr>\n",
       "  </tbody>\n",
       "</table>\n",
       "</div>"
      ],
      "text/plain": [
       "                     country  population_share  tv_audience_share  \\\n",
       "confederation                                                       \n",
       "AFC                    Japan               1.9                4.9   \n",
       "CAF             South Africa               0.7                1.3   \n",
       "CONCACAF       United States               4.5                4.3   \n",
       "CONMEBOL              Brazil               2.8                7.1   \n",
       "OFC              New Zealand               0.1                0.1   \n",
       "UEFA                 Germany               1.2                2.9   \n",
       "\n",
       "               gdp_weighted_share  \n",
       "confederation                      \n",
       "AFC                           9.1  \n",
       "CAF                           0.8  \n",
       "CONCACAF                     11.3  \n",
       "CONMEBOL                      5.4  \n",
       "OFC                           0.1  \n",
       "UEFA                          6.3  "
      ]
     },
     "execution_count": 48,
     "metadata": {},
     "output_type": "execute_result"
    }
   ],
   "source": [
    "df.groupby('confederation').first()"
   ]
  },
  {
   "cell_type": "markdown",
   "metadata": {},
   "source": [
    "Some notes on memory:\n",
    "\n",
    "- Many operations return new DataFrame objects so don't leave too many references that you aren't using. These operations also usually have an `inplace` parameter that can be used to solve just that. e.g. `sort_values()` and `where()`.\n",
    "\n",
    "- If you have lots of data, make sure you're using the right (d)types: unsigned integers, categories, etc."
   ]
  }
 ],
 "metadata": {
  "kernelspec": {
   "display_name": "Python 3",
   "language": "python",
   "name": "python3"
  },
  "language_info": {
   "codemirror_mode": {
    "name": "ipython",
    "version": 3
   },
   "file_extension": ".py",
   "mimetype": "text/x-python",
   "name": "python",
   "nbconvert_exporter": "python",
   "pygments_lexer": "ipython3",
   "version": "3.7.1"
  }
 },
 "nbformat": 4,
 "nbformat_minor": 2
}
